{
  "nbformat": 4,
  "nbformat_minor": 0,
  "metadata": {
    "colab": {
      "provenance": []
    },
    "kernelspec": {
      "name": "python3",
      "display_name": "Python 3"
    },
    "language_info": {
      "name": "python"
    }
  },
  "cells": [
    {
      "cell_type": "code",
      "source": [
        "#Exercise 1: Prime Numbers"
      ],
      "metadata": {
        "id": "9BxptgGu-hr_"
      },
      "execution_count": 12,
      "outputs": []
    },
    {
      "cell_type": "code",
      "source": [
        "def is_prime(n):\n",
        "  if n<=1:\n",
        "    return False\n",
        "  if n<=3:\n",
        "    return True\n",
        "  if n%2==0 or n%3==0:\n",
        "    return False\n",
        "  i=5\n",
        "  while i*i<=n:\n",
        "    if n%i==0 or n%(i+2)==0:\n",
        "      return False\n",
        "    i+=6\n",
        "  return True"
      ],
      "metadata": {
        "id": "nHyl-z7hBSHZ"
      },
      "execution_count": 11,
      "outputs": []
    },
    {
      "cell_type": "code",
      "source": [
        "number=int(input('Enter a Number to Check if it is Prime :'))\n",
        "if is_prime(number):\n",
        "  print(f'{number} is a Prime Number.')\n",
        "else:\n",
        "  print(f'{number} is not a Prime.')"
      ],
      "metadata": {
        "colab": {
          "base_uri": "https://localhost:8080/"
        },
        "id": "1VsIZsK9AYNd",
        "outputId": "1e0b3186-1acf-48b9-ba17-c72a03d1b0f5"
      },
      "execution_count": 12,
      "outputs": [
        {
          "output_type": "stream",
          "name": "stdout",
          "text": [
            "Enter a Number to Check if it is Prime :54\n",
            "54 is not a Prime.\n"
          ]
        }
      ]
    },
    {
      "cell_type": "code",
      "source": [],
      "metadata": {
        "id": "CARP_ktM4XEt"
      },
      "execution_count": null,
      "outputs": []
    },
    {
      "cell_type": "code",
      "source": [
        "#Exercise 2: Product of Random Numbers"
      ],
      "metadata": {
        "id": "CcbRY7gnBHvz"
      },
      "execution_count": null,
      "outputs": []
    },
    {
      "cell_type": "code",
      "source": [
        "import random\n",
        "def main():\n",
        "  num1=random.randint(1,11)\n",
        "  num2=random.randint(1,11)\n",
        "  correct_product=num1*num2\n",
        "  print(f'What is the Product of {num1} and {num2} ?')\n",
        "  user_answer=int(input('Your Answer :'))\n",
        "  if user_answer==correct_product:\n",
        "    print('Correct  Well Done.')\n",
        "  else:\n",
        "    print(f'Incorrect !. The Correct Answer is {correct_product}.')\n",
        "if __name__=='__main__':\n",
        "    main()"
      ],
      "metadata": {
        "colab": {
          "base_uri": "https://localhost:8080/"
        },
        "id": "kvWpr4p7DPpQ",
        "outputId": "fb25d62d-cf5e-4afb-dd4a-d764ba537ae0"
      },
      "execution_count": 13,
      "outputs": [
        {
          "output_type": "stream",
          "name": "stdout",
          "text": [
            "What is the Product of 1 and 10 ?\n",
            "Your Answer :10\n",
            "Correct  Well Done.\n"
          ]
        }
      ]
    },
    {
      "cell_type": "code",
      "source": [],
      "metadata": {
        "id": "1rOqFAgh4WOd"
      },
      "execution_count": null,
      "outputs": []
    },
    {
      "cell_type": "code",
      "source": [
        "#Exercise 3: Squares of Even/Odd Numbers"
      ],
      "metadata": {
        "id": "ZzuftmqBG7-L"
      },
      "execution_count": null,
      "outputs": []
    },
    {
      "cell_type": "code",
      "source": [
        "def print_squares_of_evens(start,end):\n",
        "  print(f'Squares of Even Numbers from {start} to {end}. ')\n",
        "  for num in range(start,end+1):\n",
        "    if num%2==0:\n",
        "      square=num**2\n",
        "      print(f' {num}^2 = {square}')\n",
        "start_range=100\n",
        "end_range=200\n",
        "print_squares_of_evens(start_range,end_range)"
      ],
      "metadata": {
        "colab": {
          "base_uri": "https://localhost:8080/"
        },
        "id": "Ha03bypXICTi",
        "outputId": "2fc11c1a-3161-4181-d577-6e7e3537f5be"
      },
      "execution_count": 14,
      "outputs": [
        {
          "output_type": "stream",
          "name": "stdout",
          "text": [
            "Squares of Even Numbers from 100 to 200. \n",
            " 100^2 = 10000\n",
            " 102^2 = 10404\n",
            " 104^2 = 10816\n",
            " 106^2 = 11236\n",
            " 108^2 = 11664\n",
            " 110^2 = 12100\n",
            " 112^2 = 12544\n",
            " 114^2 = 12996\n",
            " 116^2 = 13456\n",
            " 118^2 = 13924\n",
            " 120^2 = 14400\n",
            " 122^2 = 14884\n",
            " 124^2 = 15376\n",
            " 126^2 = 15876\n",
            " 128^2 = 16384\n",
            " 130^2 = 16900\n",
            " 132^2 = 17424\n",
            " 134^2 = 17956\n",
            " 136^2 = 18496\n",
            " 138^2 = 19044\n",
            " 140^2 = 19600\n",
            " 142^2 = 20164\n",
            " 144^2 = 20736\n",
            " 146^2 = 21316\n",
            " 148^2 = 21904\n",
            " 150^2 = 22500\n",
            " 152^2 = 23104\n",
            " 154^2 = 23716\n",
            " 156^2 = 24336\n",
            " 158^2 = 24964\n",
            " 160^2 = 25600\n",
            " 162^2 = 26244\n",
            " 164^2 = 26896\n",
            " 166^2 = 27556\n",
            " 168^2 = 28224\n",
            " 170^2 = 28900\n",
            " 172^2 = 29584\n",
            " 174^2 = 30276\n",
            " 176^2 = 30976\n",
            " 178^2 = 31684\n",
            " 180^2 = 32400\n",
            " 182^2 = 33124\n",
            " 184^2 = 33856\n",
            " 186^2 = 34596\n",
            " 188^2 = 35344\n",
            " 190^2 = 36100\n",
            " 192^2 = 36864\n",
            " 194^2 = 37636\n",
            " 196^2 = 38416\n",
            " 198^2 = 39204\n",
            " 200^2 = 40000\n"
          ]
        }
      ]
    },
    {
      "cell_type": "code",
      "source": [],
      "metadata": {
        "id": "FRkVKo0Q4VN1"
      },
      "execution_count": null,
      "outputs": []
    },
    {
      "cell_type": "code",
      "source": [
        "#Exercise 4: Word counter"
      ],
      "metadata": {
        "id": "S1t-npkHJ3qL"
      },
      "execution_count": null,
      "outputs": []
    },
    {
      "cell_type": "code",
      "source": [
        "def count_words(text):\n",
        "  words=text.split()\n",
        "  return len(words)\n",
        "input_text=\"This is a sample text. This text will be used to demonstrate the word counter.\"\n",
        "word_count=count_words(input_text)\n",
        "print(f'The Number of Words in the Text is : {word_count}')"
      ],
      "metadata": {
        "colab": {
          "base_uri": "https://localhost:8080/"
        },
        "id": "A9Ybh1kTa3rN",
        "outputId": "a5a4a7dd-0dd1-49fb-adfe-673a95ed0060"
      },
      "execution_count": 15,
      "outputs": [
        {
          "output_type": "stream",
          "name": "stdout",
          "text": [
            "The Number of Words in the Text is : 15\n"
          ]
        }
      ]
    },
    {
      "cell_type": "code",
      "source": [],
      "metadata": {
        "id": "LRrUq4Jk4Ty5"
      },
      "execution_count": null,
      "outputs": []
    },
    {
      "cell_type": "code",
      "source": [
        "#Exercise 5: Check for Palindrome"
      ],
      "metadata": {
        "id": "6cnYWKA5dK-j"
      },
      "execution_count": null,
      "outputs": []
    },
    {
      "cell_type": "code",
      "source": [
        "import string\n",
        "def is_palindrome(s):\n",
        "  s=s.lower()\n",
        "  s=''.join(char for char in s if char.isalnum())\n",
        "  return s==s[::-1]\n",
        "input_string='Malayalam'\n",
        "print(f'Is the input string a palindrome ? : {is_palindrome(input_string)}')"
      ],
      "metadata": {
        "colab": {
          "base_uri": "https://localhost:8080/"
        },
        "id": "5x57V9WH7aPP",
        "outputId": "29f4e402-8f8d-47a4-c412-312e128afdbb"
      },
      "execution_count": 20,
      "outputs": [
        {
          "output_type": "stream",
          "name": "stdout",
          "text": [
            "Is the input string a palindrome ? : True\n"
          ]
        }
      ]
    }
  ]
}